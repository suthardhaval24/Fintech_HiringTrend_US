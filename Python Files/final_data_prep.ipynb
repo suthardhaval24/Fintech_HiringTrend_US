{
 "cells": [
  {
   "cell_type": "markdown",
   "metadata": {},
   "source": [
    "### Importing Packages"
   ]
  },
  {
   "cell_type": "code",
   "execution_count": 2,
   "metadata": {},
   "outputs": [],
   "source": [
    "import pandas as pd\n",
    "import numpy as np"
   ]
  },
  {
   "cell_type": "markdown",
   "metadata": {},
   "source": [
    "### Reading Bank DataSet"
   ]
  },
  {
   "cell_type": "code",
   "execution_count": null,
   "metadata": {},
   "outputs": [],
   "source": [
    "col_name = ['URL','Job_Title','Description','Institution']\n",
    "file_data = pd.read_excel('Final_Dataset.xlsx', names=col_name)\n",
    "file_word = file_data.Description.tolist()\n",
    "file_job = file_data.Job_Title.tolist()\n",
    "final_data=[]"
   ]
  },
  {
   "cell_type": "code",
   "execution_count": 2,
   "metadata": {},
   "outputs": [],
   "source": [
    "for i in range(len(file_word)):\n",
    "    data = str(file_word[i]).lower() +\" \"+ str(file_job[i]).lower()\n",
    "    final_data.append(data)"
   ]
  },
  {
   "cell_type": "markdown",
   "metadata": {},
   "source": [
    "### Reading Cluster Data"
   ]
  },
  {
   "cell_type": "code",
   "execution_count": 3,
   "metadata": {},
   "outputs": [],
   "source": [
    "colName = ['Blockchain','CyberSecurity','ArtificialIntelligence','RiskManagement','BigData','InformationTechnology','FinacialOperations','Business_Accounting']\n",
    "file_data = pd.read_csv('cluster_data.csv', names=colName)"
   ]
  },
  {
   "cell_type": "code",
   "execution_count": 4,
   "metadata": {},
   "outputs": [],
   "source": [
    "block_list = file_data.Blockchain.tolist()\n",
    "cyber_list = file_data.CyberSecurity.tolist()\n",
    "ai_list = file_data.ArtificialIntelligence.tolist()\n",
    "risk_list = file_data.RiskManagement.tolist()\n",
    "big_list = file_data.BigData.tolist()\n",
    "it_list = file_data.InformationTechnology.tolist()\n",
    "fo_list = file_data.FinacialOperations.tolist()\n",
    "ba_list = file_data.Business_Accounting.tolist()"
   ]
  },
  {
   "cell_type": "markdown",
   "metadata": {},
   "source": [
    "### Custom Logic to Calculate Cluster weight and Category"
   ]
  },
  {
   "cell_type": "code",
   "execution_count": 5,
   "metadata": {},
   "outputs": [],
   "source": [
    "count=0\n",
    "word_list=[]\n",
    "cluster=[]\n",
    "category=[]\n",
    "fintech = [\"Blockchain\",\"Cyber Security\",\"Artificial Intelligence and Data Science\",\"Big Data\",\"Information Technology\"]\n",
    "non_fintech = [\"Risk Management\",\"Financial Operation\",\"Business/Accounting\"]\n",
    "block_count=0\n",
    "cyber_count=0\n",
    "ai_count=0\n",
    "risk_count=0\n",
    "big_count=0\n",
    "it_count=0\n",
    "#for word in file_word:\n",
    "for word in final_data:\n",
    "    #print(word)\n",
    "    count += 1\n",
    "    block_count=0\n",
    "    cyber_count=0\n",
    "    ai_count=0\n",
    "    risk_count=0\n",
    "    big_count=0\n",
    "    it_count=0\n",
    "    fo_count=0\n",
    "    ba_count=0\n",
    "    word_list=[]\n",
    "    for list_word in block_list:\n",
    "        if(not list_word is np.nan):\n",
    "            word_block_nbr = str(word).count(str(list_word).lower())\n",
    "            block_count += word_block_nbr\n",
    "    for list_word in cyber_list:\n",
    "        if(not list_word is np.nan):\n",
    "            word_cyber_nbr = str(word).count(str(list_word).lower())\n",
    "            #if word_cyber_nbr != 0:\n",
    "             #   print(list_word)\n",
    "            cyber_count += word_cyber_nbr\n",
    "    for list_word in ai_list:\n",
    "        if(not list_word is np.nan):\n",
    "            word_ai_nbr = str(word).count(str(list_word).lower())\n",
    "            #if word_ai_nbr != 0:\n",
    "             #   print(list_word)\n",
    "            ai_count += word_ai_nbr\n",
    "    for list_word in risk_list:\n",
    "        if(not list_word is np.nan):\n",
    "            word_risk_nbr = str(word).count(str(list_word).lower())\n",
    "            #if word_risk_nbr != 0:\n",
    "             #   print(list_word)\n",
    "            risk_count += word_risk_nbr\n",
    "    for list_word in big_list:\n",
    "        if(not list_word is np.nan):\n",
    "            word_big_nbr = str(word).count(str(list_word).lower())\n",
    "            #if word_big_nbr != 0:\n",
    "                #print(list_word)\n",
    "            big_count += word_big_nbr\n",
    "    for list_word in it_list:\n",
    "        if(not list_word is np.nan):\n",
    "            word_it_nbr = str(word).count(str(list_word).lower())\n",
    "            #if word_it_nbr != 0:\n",
    "             #   print(list_word)\n",
    "            it_count += word_it_nbr\n",
    "    for list_word in fo_list:\n",
    "        if(not list_word is np.nan):\n",
    "            word_fo_nbr=0\n",
    "            word_fo_nbr = str(word).count(str(list_word).lower())\n",
    "            #print(list_word,\" \",word_fo_nbr)\n",
    "            #if word_fo_nbr != 0:\n",
    "                #print(list_word)\n",
    "            fo_count += word_fo_nbr\n",
    "    for list_word in ba_list:\n",
    "        if(not list_word is np.nan):\n",
    "            word_ba_nbr = str(word).count(str(list_word).lower())\n",
    "            ba_count += word_ba_nbr\n",
    "    blockchain_tuple=(\"Blockchain\",block_count)\n",
    "    word_list.append(blockchain_tuple)\n",
    "    cyber_tuple=(\"Cyber Security\",cyber_count)\n",
    "    word_list.append(cyber_tuple)\n",
    "    ai_tuple=(\"Artificial Intelligence and Data Science\",ai_count)\n",
    "    word_list.append(ai_tuple)\n",
    "    risk_tuple=(\"Risk Management\",risk_count)\n",
    "    word_list.append(risk_tuple)\n",
    "    big_tuple=(\"Big Data\",big_count)\n",
    "    word_list.append(big_tuple)\n",
    "    it_tuple=(\"Information Technology\",it_count)\n",
    "    word_list.append(it_tuple)\n",
    "    fo_tuple=(\"Financial Operation\",fo_count)\n",
    "    word_list.append(fo_tuple)\n",
    "    ba_tuple=(\"Business/Accounting\",ba_count)\n",
    "    word_list.append(ba_tuple)\n",
    "    word_list.sort(key=lambda tup: tup[1], reverse=True)\n",
    "    #print(word_list)\n",
    "    if (str(word).count(\"blockchain\")>1 or str(word).count(\"block chain\")>1):\n",
    "        cluster.append(\"Blockchain\")\n",
    "        category.append(\"Fintech\")\n",
    "    elif it_count>ai_count and it_count>cyber_count and it_count>big_count and it_count>20:\n",
    "        cluster.append(\"Information Technology\")\n",
    "        category.append(\"Fintech\")\n",
    "    else:\n",
    "        if word_list[0][1] >0:\n",
    "            cluster.append(word_list[0][0])\n",
    "            if word_list[0][0] in fintech:\n",
    "                category.append(\"Fintech\")\n",
    "            else:\n",
    "                category.append(\"Non Fintech\")\n",
    "        else:\n",
    "            #print(word_list[0][0],\":\",word_list[0][1])\n",
    "            cluster.append(\"Not available\")\n",
    "            category.append(\"Not available\")"
   ]
  },
  {
   "cell_type": "markdown",
   "metadata": {},
   "source": [
    "### Adding Features to Excel File"
   ]
  },
  {
   "cell_type": "code",
   "execution_count": null,
   "metadata": {
    "scrolled": true
   },
   "outputs": [],
   "source": [
    "df = pd.read_excel(\"Final_Dataset.xlsx\")\n",
    "df['Cluster'],df['Category']=cluster,category\n",
    "df.to_excel(\"Final_Dataset.xlsx\")"
   ]
  },
  {
   "cell_type": "markdown",
   "metadata": {},
   "source": [
    "### Output of Features "
   ]
  },
  {
   "cell_type": "code",
   "execution_count": 4,
   "metadata": {},
   "outputs": [
    {
     "data": {
      "text/html": [
       "<div>\n",
       "<style scoped>\n",
       "    .dataframe tbody tr th:only-of-type {\n",
       "        vertical-align: middle;\n",
       "    }\n",
       "\n",
       "    .dataframe tbody tr th {\n",
       "        vertical-align: top;\n",
       "    }\n",
       "\n",
       "    .dataframe thead th {\n",
       "        text-align: right;\n",
       "    }\n",
       "</style>\n",
       "<table border=\"1\" class=\"dataframe\">\n",
       "  <thead>\n",
       "    <tr style=\"text-align: right;\">\n",
       "      <th></th>\n",
       "      <th>URL</th>\n",
       "      <th>Job Title</th>\n",
       "      <th>Description</th>\n",
       "      <th>Institution</th>\n",
       "      <th>Cluster</th>\n",
       "      <th>Category</th>\n",
       "    </tr>\n",
       "  </thead>\n",
       "  <tbody>\n",
       "    <tr>\n",
       "      <th>0</th>\n",
       "      <td>https://jobs.americanexpress.com/jobs/18010789...</td>\n",
       "      <td>Customer Care Professional  (Click to Chat Ser...</td>\n",
       "      <td>American Express Card Members can contact us v...</td>\n",
       "      <td>American Express</td>\n",
       "      <td>Financial Operation</td>\n",
       "      <td>Non Fintech</td>\n",
       "    </tr>\n",
       "    <tr>\n",
       "      <th>1</th>\n",
       "      <td>https://jobs.americanexpress.com/jobs/18009339...</td>\n",
       "      <td>Senior Engineer</td>\n",
       "      <td>You wonâ€™t just shape the world of software.\\...</td>\n",
       "      <td>American Express</td>\n",
       "      <td>Information Technology</td>\n",
       "      <td>Fintech</td>\n",
       "    </tr>\n",
       "    <tr>\n",
       "      <th>2</th>\n",
       "      <td>https://jobs.americanexpress.com/jobs/18001658...</td>\n",
       "      <td>Customer Care Professionals, either German, Sw...</td>\n",
       "      <td>\\r\\n\\r\\nAmerican Express is a global service c...</td>\n",
       "      <td>American Express</td>\n",
       "      <td>Business/Accounting</td>\n",
       "      <td>Non Fintech</td>\n",
       "    </tr>\n",
       "    <tr>\n",
       "      <th>3</th>\n",
       "      <td>https://jobs.americanexpress.com/jobs/19002267...</td>\n",
       "      <td>Senior Product Analyst</td>\n",
       "      <td>You wonâ€™t just shape the world of payments.Â...</td>\n",
       "      <td>American Express</td>\n",
       "      <td>Information Technology</td>\n",
       "      <td>Fintech</td>\n",
       "    </tr>\n",
       "    <tr>\n",
       "      <th>4</th>\n",
       "      <td>https://jobs.americanexpress.com/jobs/18007318...</td>\n",
       "      <td>Instructional Designer</td>\n",
       "      <td>\\r\\nThe\\r\\nInstructional Designer is responsib...</td>\n",
       "      <td>American Express</td>\n",
       "      <td>Financial Operation</td>\n",
       "      <td>Non Fintech</td>\n",
       "    </tr>\n",
       "  </tbody>\n",
       "</table>\n",
       "</div>"
      ],
      "text/plain": [
       "                                                 URL  \\\n",
       "0  https://jobs.americanexpress.com/jobs/18010789...   \n",
       "1  https://jobs.americanexpress.com/jobs/18009339...   \n",
       "2  https://jobs.americanexpress.com/jobs/18001658...   \n",
       "3  https://jobs.americanexpress.com/jobs/19002267...   \n",
       "4  https://jobs.americanexpress.com/jobs/18007318...   \n",
       "\n",
       "                                           Job Title  \\\n",
       "0  Customer Care Professional  (Click to Chat Ser...   \n",
       "1                                    Senior Engineer   \n",
       "2  Customer Care Professionals, either German, Sw...   \n",
       "3                             Senior Product Analyst   \n",
       "4                             Instructional Designer   \n",
       "\n",
       "                                         Description       Institution  \\\n",
       "0  American Express Card Members can contact us v...  American Express   \n",
       "1  You wonâ€™t just shape the world of software.\\...  American Express   \n",
       "2  \\r\\n\\r\\nAmerican Express is a global service c...  American Express   \n",
       "3  You wonâ€™t just shape the world of payments.Â...  American Express   \n",
       "4  \\r\\nThe\\r\\nInstructional Designer is responsib...  American Express   \n",
       "\n",
       "                  Cluster     Category  \n",
       "0     Financial Operation  Non Fintech  \n",
       "1  Information Technology      Fintech  \n",
       "2     Business/Accounting  Non Fintech  \n",
       "3  Information Technology      Fintech  \n",
       "4     Financial Operation  Non Fintech  "
      ]
     },
     "execution_count": 4,
     "metadata": {},
     "output_type": "execute_result"
    }
   ],
   "source": [
    "df.head()"
   ]
  },
  {
   "cell_type": "code",
   "execution_count": null,
   "metadata": {},
   "outputs": [],
   "source": []
  }
 ],
 "metadata": {
  "kernelspec": {
   "display_name": "Python 3",
   "language": "python",
   "name": "python3"
  },
  "language_info": {
   "codemirror_mode": {
    "name": "ipython",
    "version": 3
   },
   "file_extension": ".py",
   "mimetype": "text/x-python",
   "name": "python",
   "nbconvert_exporter": "python",
   "pygments_lexer": "ipython3",
   "version": "3.7.1"
  }
 },
 "nbformat": 4,
 "nbformat_minor": 2
}
